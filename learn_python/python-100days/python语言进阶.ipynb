{
 "cells": [
  {
   "cell_type": "markdown",
   "id": "caa889e5-40f1-4021-8f6f-1a2170a2a652",
   "metadata": {},
   "source": [
    "https://github.com/jackfrued/Python-100-Days/blob/master/Day16-20/16-20.Python%E8%AF%AD%E8%A8%80%E8%BF%9B%E9%98%B6.md"
   ]
  },
  {
   "cell_type": "code",
   "execution_count": null,
   "id": "3dbd204d-74ec-4058-9a35-73d316df0ce8",
   "metadata": {},
   "outputs": [],
   "source": []
  },
  {
   "cell_type": "code",
   "execution_count": 2,
   "id": "f07ecce2-5ef4-4bd7-bfd7-33bb76a9e132",
   "metadata": {},
   "outputs": [
    {
     "name": "stdout",
     "output_type": "stream",
     "text": [
      "{'AAPL': 191.88, 'GOOG': 1186.96, 'IBM': 149.24, 'ACN': 166.89, 'FB': 208.09}\n"
     ]
    }
   ],
   "source": [
    "prices = {\n",
    "    'AAPL': 191.88,\n",
    "    'GOOG': 1186.96,\n",
    "    'IBM': 149.24,\n",
    "    'ORCL': 48.44,\n",
    "    'ACN': 166.89,\n",
    "    'FB': 208.09,\n",
    "    'SYMC': 21.29\n",
    "}\n",
    "prices2 = {key:value for key , value in prices.items() if value > 100}\n",
    "print(prices2)"
   ]
  },
  {
   "cell_type": "code",
   "execution_count": 3,
   "id": "87ff64e9-c0b7-4fbd-a909-f052ca0f6d58",
   "metadata": {},
   "outputs": [
    {
     "name": "stdout",
     "output_type": "stream",
     "text": [
      "[1, 9, 25, 49, 81]\n",
      "[1, 9, 25, 49, 81]\n"
     ]
    }
   ],
   "source": [
    "items1 = list(map(lambda x:x**2, filter(lambda x: x%2, range(1,10))))\n",
    "items2 = [x**2 for x in range(1,10) if x % 2]\n",
    "print(items1)\n",
    "print(items2)"
   ]
  },
  {
   "cell_type": "code",
   "execution_count": null,
   "id": "755a59e5-8f25-4e28-82a7-c1d994143609",
   "metadata": {},
   "outputs": [],
   "source": []
  }
 ],
 "metadata": {
  "kernelspec": {
   "display_name": "Python 3 (ipykernel)",
   "language": "python",
   "name": "python3"
  },
  "language_info": {
   "codemirror_mode": {
    "name": "ipython",
    "version": 3
   },
   "file_extension": ".py",
   "mimetype": "text/x-python",
   "name": "python",
   "nbconvert_exporter": "python",
   "pygments_lexer": "ipython3",
   "version": "3.8.10"
  }
 },
 "nbformat": 4,
 "nbformat_minor": 5
}
